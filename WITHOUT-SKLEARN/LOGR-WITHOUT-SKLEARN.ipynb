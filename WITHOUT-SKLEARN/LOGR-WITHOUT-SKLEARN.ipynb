{
 "cells": [
  {
   "cell_type": "code",
   "execution_count": 10,
   "id": "a63d3ad3-62b7-40b0-a0a4-953bd24847ae",
   "metadata": {},
   "outputs": [],
   "source": [
    "import numpy as np\n",
    "import pandas as pd"
   ]
  },
  {
   "cell_type": "code",
   "execution_count": 4,
   "id": "d5189b03-6d2d-42db-b9cc-60fde0a28129",
   "metadata": {},
   "outputs": [],
   "source": [
    "def sigmoid(z):\n",
    "    return 1 / (1 + np.exp(-z))"
   ]
  },
  {
   "cell_type": "code",
   "execution_count": null,
   "id": "921a1f46-fed6-43f0-a801-4057eb6edad2",
   "metadata": {},
   "outputs": [],
   "source": []
  },
  {
   "cell_type": "code",
   "execution_count": 5,
   "id": "33ee0392-12bc-4397-967c-e79de4b8ee1e",
   "metadata": {},
   "outputs": [],
   "source": [
    "def compute_cost(X, y, theta):\n",
    "    m = len(y)\n",
    "    h = sigmoid(np.dot(X, theta))\n",
    "    epsilon = 1e-5  # to avoid log(0) errors\n",
    "    cost = -(1/m) * np.sum(y * np.log(h + epsilon) + (1 - y) * np.log(1 - h + epsilon))\n",
    "    return cost"
   ]
  },
  {
   "cell_type": "code",
   "execution_count": 6,
   "id": "38578494-9025-4ea7-926a-339f3b0f5d8e",
   "metadata": {},
   "outputs": [],
   "source": [
    "def gradient_descent(X, y, theta, learning_rate, num_iterations, verbose=True):\n",
    "    costs = []\n",
    "    m = len(y)\n",
    "    \n",
    "    for i in range(num_iterations):\n",
    "        h = sigmoid(np.dot(X, theta))\n",
    "        gradient = np.dot(X.T, (h - y)) / m\n",
    "        theta -= learning_rate * gradient\n",
    "        \n",
    "        cost = compute_cost(X, y, theta)\n",
    "        costs.append(cost)\n",
    "        \n",
    "        if verbose and i % 100 == 0:\n",
    "            print(f\"Iteration {i}: Cost = {cost}\")\n",
    "    \n",
    "    return theta, costs"
   ]
  },
  {
   "cell_type": "code",
   "execution_count": 7,
   "id": "7913d74c-0dcc-4705-92e1-ea8631e38a89",
   "metadata": {},
   "outputs": [],
   "source": [
    "def predict(X, theta):\n",
    "    h = sigmoid(np.dot(X, theta))\n",
    "    return np.round(h)"
   ]
  },
  {
   "cell_type": "code",
   "execution_count": 11,
   "id": "3d8d5cde-80ad-49c3-90ce-80b00a397835",
   "metadata": {},
   "outputs": [],
   "source": [
    "# Read the dataset from CSV file\n",
    "df = pd.read_csv('iris.data', names = ['sepal_length', 'sepal_width', 'petal_length', 'petal_width', 'target'])"
   ]
  },
  {
   "cell_type": "code",
   "execution_count": 14,
   "id": "143de25d-0d30-4b90-8342-a9ed7466d51d",
   "metadata": {},
   "outputs": [],
   "source": [
    "X = df.iloc[ : , :-1]\n",
    "y  = df.iloc[: , -1]"
   ]
  },
  {
   "cell_type": "code",
   "execution_count": 20,
   "id": "328cc142-116f-42a0-b5da-e29dcf4a39ef",
   "metadata": {},
   "outputs": [],
   "source": [
    "class_mapping = {'Iris-setosa': 0, 'Iris-versicolor': 1, 'Iris-virginica': 2}\n",
    "y = np.array([class_mapping[label] for label in y])"
   ]
  },
  {
   "cell_type": "code",
   "execution_count": 21,
   "id": "9f58d5a4-c7fd-431c-9f28-858b072e25cd",
   "metadata": {},
   "outputs": [
    {
     "data": {
      "text/plain": [
       "array([0, 0, 0, 0, 0, 0, 0, 0, 0, 0, 0, 0, 0, 0, 0, 0, 0, 0, 0, 0, 0, 0,\n",
       "       0, 0, 0, 0, 0, 0, 0, 0, 0, 0, 0, 0, 0, 0, 0, 0, 0, 0, 0, 0, 0, 0,\n",
       "       0, 0, 0, 0, 0, 0, 1, 1, 1, 1, 1, 1, 1, 1, 1, 1, 1, 1, 1, 1, 1, 1,\n",
       "       1, 1, 1, 1, 1, 1, 1, 1, 1, 1, 1, 1, 1, 1, 1, 1, 1, 1, 1, 1, 1, 1,\n",
       "       1, 1, 1, 1, 1, 1, 1, 1, 1, 1, 1, 1, 2, 2, 2, 2, 2, 2, 2, 2, 2, 2,\n",
       "       2, 2, 2, 2, 2, 2, 2, 2, 2, 2, 2, 2, 2, 2, 2, 2, 2, 2, 2, 2, 2, 2,\n",
       "       2, 2, 2, 2, 2, 2, 2, 2, 2, 2, 2, 2, 2, 2, 2, 2, 2, 2])"
      ]
     },
     "execution_count": 21,
     "metadata": {},
     "output_type": "execute_result"
    }
   ],
   "source": [
    "y"
   ]
  },
  {
   "cell_type": "code",
   "execution_count": 22,
   "id": "faeb25a2-b72b-49f5-a36d-62339f2042c5",
   "metadata": {},
   "outputs": [],
   "source": [
    "# Example usage:\n",
    "# Assuming X is your feature matrix and y is your target vector\n",
    "# X should be standardized and include a bias column (if necessary)\n",
    "\n",
    "# Standardize features\n",
    "means = np.mean(X, axis=0)\n",
    "stds = np.std(X, axis=0)\n",
    "X_standardized = (X - means) / stds"
   ]
  },
  {
   "cell_type": "code",
   "execution_count": 23,
   "id": "f0fa3088-1b02-4bcf-9477-37554687868e",
   "metadata": {},
   "outputs": [],
   "source": [
    "# Add bias column if necessary\n",
    "# X_standardized = np.hstack((np.ones((X_standardized.shape[0], 1)), X_standardized))\n",
    "\n",
    "# Initialize parameters\n",
    "n_features = X_standardized.shape[1]\n",
    "theta = np.zeros(n_features)"
   ]
  },
  {
   "cell_type": "code",
   "execution_count": 24,
   "id": "426faa9d-b513-4d02-a516-5dc6b7a9053d",
   "metadata": {},
   "outputs": [],
   "source": [
    "# Define hyperparameters\n",
    "learning_rate = 0.1\n",
    "num_iterations = 1000"
   ]
  },
  {
   "cell_type": "code",
   "execution_count": 25,
   "id": "41e6b538-920a-46f1-82e6-c2722bb75f46",
   "metadata": {},
   "outputs": [
    {
     "name": "stdout",
     "output_type": "stream",
     "text": [
      "Iteration 0: Cost = 0.5258226877267614\n",
      "Iteration 100: Cost = -3.1603314732630485\n",
      "Iteration 200: Cost = -3.6263933670774837\n",
      "Iteration 300: Cost = -3.597971956820395\n",
      "Iteration 400: Cost = -3.559384900923634\n",
      "Iteration 500: Cost = -3.53769329269857\n",
      "Iteration 600: Cost = -3.5241423945408386\n",
      "Iteration 700: Cost = -3.5120435800340952\n",
      "Iteration 800: Cost = -3.499980967724069\n",
      "Iteration 900: Cost = -3.488018667855692\n"
     ]
    },
    {
     "ename": "NameError",
     "evalue": "name 'X_test' is not defined",
     "output_type": "error",
     "traceback": [
      "\u001b[0;31m---------------------------------------------------------------------------\u001b[0m",
      "\u001b[0;31mNameError\u001b[0m                                 Traceback (most recent call last)",
      "Cell \u001b[0;32mIn[25], line 7\u001b[0m\n\u001b[1;32m      2\u001b[0m theta_final, costs \u001b[38;5;241m=\u001b[39m gradient_descent(X_standardized, y, theta, learning_rate, num_iterations)\n\u001b[1;32m      4\u001b[0m \u001b[38;5;66;03m# Predict\u001b[39;00m\n\u001b[1;32m      5\u001b[0m \u001b[38;5;66;03m# Assuming X_test is your test feature matrix\u001b[39;00m\n\u001b[1;32m      6\u001b[0m \u001b[38;5;66;03m# Standardize the test features using the same mean and standard deviation as the training set\u001b[39;00m\n\u001b[0;32m----> 7\u001b[0m X_test_standardized \u001b[38;5;241m=\u001b[39m (X_test \u001b[38;5;241m-\u001b[39m means) \u001b[38;5;241m/\u001b[39m stds\n\u001b[1;32m      8\u001b[0m \u001b[38;5;66;03m# Add bias column if necessary\u001b[39;00m\n\u001b[1;32m      9\u001b[0m \u001b[38;5;66;03m# X_test_standardized = np.hstack((np.ones((X_test_standardized.shape[0], 1)), X_test_standardized))\u001b[39;00m\n\u001b[1;32m     10\u001b[0m predictions \u001b[38;5;241m=\u001b[39m predict(X_test_standardized, theta_final)\n",
      "\u001b[0;31mNameError\u001b[0m: name 'X_test' is not defined"
     ]
    }
   ],
   "source": [
    "# Train the logistic regression model\n",
    "theta_final, costs = gradient_descent(X_standardized, y, theta, learning_rate, num_iterations)\n",
    "\n",
    "# Predict\n",
    "# Assuming X_test is your test feature matrix\n",
    "\n",
    "# Standardize the test features using the same mean and standard deviation as the training set\n",
    "X_test_standardized = (X_test - means) / stds\n",
    "# Add bias column if necessary\n",
    "# X_test_standardized = np.hstack((np.ones((X_test_standardized.shape[0], 1)), X_test_standardized))\n",
    "predictions = predict(X_test_standardized, theta_final)"
   ]
  }
 ],
 "metadata": {
  "kernelspec": {
   "display_name": "Python 3 (ipykernel)",
   "language": "python",
   "name": "python3"
  },
  "language_info": {
   "codemirror_mode": {
    "name": "ipython",
    "version": 3
   },
   "file_extension": ".py",
   "mimetype": "text/x-python",
   "name": "python",
   "nbconvert_exporter": "python",
   "pygments_lexer": "ipython3",
   "version": "3.11.7"
  }
 },
 "nbformat": 4,
 "nbformat_minor": 5
}
