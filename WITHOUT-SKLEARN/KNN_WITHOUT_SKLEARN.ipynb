{
 "cells": [
  {
   "cell_type": "code",
   "execution_count": 23,
   "id": "8b4ac996-ba5d-4179-ab3a-3875e8297ece",
   "metadata": {},
   "outputs": [],
   "source": [
    "import numpy as np\n",
    "import pandas as pd\n",
    "from sklearn.model_selection import train_test_split\n",
    "from sklearn.metrics import accuracy_score, precision_score, recall_score, f1_score\n",
    "import matplotlib.pyplot as plt"
   ]
  },
  {
   "cell_type": "code",
   "execution_count": 5,
   "id": "3b68785e-bba1-4ba0-b382-86e5263a8314",
   "metadata": {},
   "outputs": [],
   "source": [
    "# Read the dataset from CSV file\n",
    "df = pd.read_csv('iris.data')"
   ]
  },
  {
   "cell_type": "code",
   "execution_count": 6,
   "id": "4cc36ed4-7212-4b3f-99f9-349c730db65c",
   "metadata": {},
   "outputs": [],
   "source": [
    "# Extract the features and target\n",
    "X = df.iloc[:, :-1].values\n",
    "y = df.iloc[:, -1].values"
   ]
  },
  {
   "cell_type": "code",
   "execution_count": 7,
   "id": "2768f46d-e709-45c6-bfa7-3e1dde0eb8bc",
   "metadata": {},
   "outputs": [],
   "source": [
    "# Standardize the features (optional, but can improve performance)\n",
    "means = np.mean(X, axis=0)\n",
    "stds = np.std(X, axis=0)\n",
    "X = (X - means) / stds"
   ]
  },
  {
   "cell_type": "code",
   "execution_count": 13,
   "id": "6eca36f9-4a41-46d3-ba79-e81a987171ed",
   "metadata": {},
   "outputs": [
    {
     "name": "stdout",
     "output_type": "stream",
     "text": [
      "Train set size: 119\n",
      "Test set size: 30\n"
     ]
    }
   ],
   "source": [
    "# Split the dataset into training and testing sets\n",
    "test_size = 0.2  # You can adjust the test size as needed\n",
    "random_state = 42  # You can set a random state for reproducibility\n",
    "X_train, X_test, y_train, y_test = train_test_split(X, y, test_size=test_size, random_state=random_state)\n",
    "\n",
    "print(\"Train set size:\", len(X_train))\n",
    "print(\"Test set size:\", len(X_test))"
   ]
  },
  {
   "cell_type": "code",
   "execution_count": 14,
   "id": "45b29595-e1f5-4066-90b7-6a8ff9bdc9a0",
   "metadata": {},
   "outputs": [],
   "source": [
    "def euclidean_distance(x1, x2):\n",
    "    return np.sqrt(np.sum((x1 - x2) ** 2))"
   ]
  },
  {
   "cell_type": "code",
   "execution_count": 15,
   "id": "46203c07-e396-48da-8ca4-a6a10dcfc2e5",
   "metadata": {},
   "outputs": [],
   "source": [
    "def knn_predict(X_train, y_train, X_test, k=3):\n",
    "    y_pred = []\n",
    "\n",
    "    for tp in X_test:\n",
    "        distances = []\n",
    "\n",
    "        for i, tr in enumerate(X_train):\n",
    "            distances.append((i, euclidean_distance(tp, tr)))\n",
    "\n",
    "        distances.sort(key=lambda x: x[1])\n",
    "        neighbors = distances[:k]\n",
    "\n",
    "        labels = [y_train[neighbor[0]] for neighbor in neighbors]\n",
    "        pred_label = max(set(labels), key=labels.count)\n",
    "        y_pred.append(pred_label)\n",
    "\n",
    "    return np.array(y_pred)"
   ]
  },
  {
   "cell_type": "code",
   "execution_count": 16,
   "id": "08aae4cf-0572-429a-9857-6930eedb082d",
   "metadata": {},
   "outputs": [],
   "source": [
    "# Assuming you have a test set, you can split your data into training and testing sets\n",
    "# For simplicity, let's assume you have a separate test set already\n",
    "X_train = X\n",
    "y_train = y"
   ]
  },
  {
   "cell_type": "code",
   "execution_count": 27,
   "id": "5740d36c-5d9b-4d4a-b960-9a41c5228d52",
   "metadata": {},
   "outputs": [
    {
     "data": {
      "text/plain": [
       "<enumerate at 0x17ff4f7e0>"
      ]
     },
     "execution_count": 27,
     "metadata": {},
     "output_type": "execute_result"
    }
   ],
   "source": [
    "enumerate(X_train)"
   ]
  },
  {
   "cell_type": "code",
   "execution_count": 17,
   "id": "3344d10e-973a-4256-a661-1a92d74f1762",
   "metadata": {},
   "outputs": [
    {
     "name": "stdout",
     "output_type": "stream",
     "text": [
      "Predicted Labels: ['Iris-versicolor' 'Iris-setosa' 'Iris-virginica' 'Iris-versicolor'\n",
      " 'Iris-versicolor' 'Iris-setosa' 'Iris-versicolor' 'Iris-virginica'\n",
      " 'Iris-versicolor' 'Iris-virginica' 'Iris-virginica' 'Iris-setosa'\n",
      " 'Iris-setosa' 'Iris-setosa' 'Iris-setosa' 'Iris-versicolor'\n",
      " 'Iris-virginica' 'Iris-virginica' 'Iris-versicolor' 'Iris-virginica'\n",
      " 'Iris-setosa' 'Iris-virginica' 'Iris-setosa' 'Iris-virginica'\n",
      " 'Iris-virginica' 'Iris-virginica' 'Iris-virginica' 'Iris-virginica'\n",
      " 'Iris-setosa' 'Iris-setosa']\n"
     ]
    }
   ],
   "source": [
    "# Here, you would load your test set (X_test) and apply the same preprocessing steps as for the training set\n",
    "\n",
    "# Perform KNN prediction\n",
    "k = 3  # You can choose any value for k\n",
    "y_pred = knn_predict(X_train, y_train, X_test, k)\n",
    "\n",
    "print(\"Predicted Labels:\", y_pred)"
   ]
  },
  {
   "cell_type": "code",
   "execution_count": 22,
   "id": "65793494-8b2d-4249-ac36-3fb06db4a51a",
   "metadata": {},
   "outputs": [
    {
     "name": "stdout",
     "output_type": "stream",
     "text": [
      "Accuracy: 0.9333333333333333\n",
      "Precision: 0.9435897435897436\n",
      "Recall: 0.9333333333333333\n",
      "F1-score: 0.9319444444444444\n"
     ]
    }
   ],
   "source": [
    "# Assuming you have computed y_pred using your KNN function\n",
    "\n",
    "# Accuracy\n",
    "accuracy = accuracy_score(y_test, y_pred)\n",
    "print(\"Accuracy:\", accuracy)\n",
    "\n",
    "# Precision\n",
    "precision = precision_score(y_test, y_pred, average='weighted')\n",
    "print(\"Precision:\", precision)\n",
    "\n",
    "# Recall\n",
    "recall = recall_score(y_test, y_pred, average='weighted')\n",
    "print(\"Recall:\", recall)\n",
    "\n",
    "# F1-score\n",
    "f1 = f1_score(y_test, y_pred, average='weighted')\n",
    "print(\"F1-score:\", f1)"
   ]
  }
 ],
 "metadata": {
  "kernelspec": {
   "display_name": "Python 3 (ipykernel)",
   "language": "python",
   "name": "python3"
  },
  "language_info": {
   "codemirror_mode": {
    "name": "ipython",
    "version": 3
   },
   "file_extension": ".py",
   "mimetype": "text/x-python",
   "name": "python",
   "nbconvert_exporter": "python",
   "pygments_lexer": "ipython3",
   "version": "3.11.7"
  }
 },
 "nbformat": 4,
 "nbformat_minor": 5
}
