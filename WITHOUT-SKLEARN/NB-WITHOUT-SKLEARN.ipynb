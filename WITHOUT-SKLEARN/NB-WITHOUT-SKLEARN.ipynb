{
 "cells": [
  {
   "cell_type": "code",
   "execution_count": 10,
   "id": "1f356176-622c-4b97-9243-51df9c09c00d",
   "metadata": {},
   "outputs": [],
   "source": [
    "import numpy as np\n",
    "import pandas as pd\n",
    "import matplotlib.pyplot as plt\n",
    "from sklearn.model_selection import train_test_split\n",
    "from sklearn.metrics import classification_report"
   ]
  },
  {
   "cell_type": "code",
   "execution_count": 11,
   "id": "f4df4471-e01b-4d4b-8023-2095e4b1ed64",
   "metadata": {},
   "outputs": [],
   "source": [
    "# Load Iris dataset\n",
    "url = \"https://archive.ics.uci.edu/ml/machine-learning-databases/iris/iris.data\"\n",
    "names = ['sepal-length', 'sepal-width', 'petal-length', 'petal-width', 'class']\n",
    "dataset = pd.read_csv(url, names=names)"
   ]
  },
  {
   "cell_type": "code",
   "execution_count": 12,
   "id": "31f63ea4-fbad-4061-9285-3781b9956160",
   "metadata": {},
   "outputs": [
    {
     "name": "stdout",
     "output_type": "stream",
     "text": [
      "Dataset Information:\n",
      "   sepal-length  sepal-width  petal-length  petal-width        class\n",
      "0           5.1          3.5           1.4          0.2  Iris-setosa\n",
      "1           4.9          3.0           1.4          0.2  Iris-setosa\n",
      "2           4.7          3.2           1.3          0.2  Iris-setosa\n",
      "3           4.6          3.1           1.5          0.2  Iris-setosa\n",
      "4           5.0          3.6           1.4          0.2  Iris-setosa\n",
      "\n",
      "Dataset Description:\n",
      "       sepal-length  sepal-width  petal-length  petal-width\n",
      "count    150.000000   150.000000    150.000000   150.000000\n",
      "mean       5.843333     3.054000      3.758667     1.198667\n",
      "std        0.828066     0.433594      1.764420     0.763161\n",
      "min        4.300000     2.000000      1.000000     0.100000\n",
      "25%        5.100000     2.800000      1.600000     0.300000\n",
      "50%        5.800000     3.000000      4.350000     1.300000\n",
      "75%        6.400000     3.300000      5.100000     1.800000\n",
      "max        7.900000     4.400000      6.900000     2.500000\n",
      "\n",
      "Classes:\n",
      "['Iris-setosa' 'Iris-versicolor' 'Iris-virginica']\n"
     ]
    }
   ],
   "source": [
    "# Dataset Explanation\n",
    "print(\"Dataset Information:\")\n",
    "print(dataset.head())\n",
    "print(\"\\nDataset Description:\")\n",
    "print(dataset.describe())\n",
    "print(\"\\nClasses:\")\n",
    "print(dataset['class'].unique())"
   ]
  },
  {
   "cell_type": "code",
   "execution_count": 13,
   "id": "9e94073b-24fe-4d09-98a4-f2a6ef6907c3",
   "metadata": {},
   "outputs": [],
   "source": [
    "# Data preprocessing\n",
    "X = dataset.iloc[:, :-1].values\n",
    "y = dataset.iloc[:, 4].values"
   ]
  },
  {
   "cell_type": "code",
   "execution_count": 14,
   "id": "26be8e96-e7d2-4e1f-abf7-610aabeb754b",
   "metadata": {},
   "outputs": [],
   "source": [
    "# Train-test split\n",
    "X_train, X_test, y_train, y_test = train_test_split(X, y, test_size=0.2, random_state=42)"
   ]
  },
  {
   "cell_type": "code",
   "execution_count": 15,
   "id": "329a926a-154a-4e67-ba58-9b5c0ac3729c",
   "metadata": {},
   "outputs": [],
   "source": [
    "# Naive Bayes implementation\n",
    "class NaiveBayes:\n",
    "    def __init__(self):\n",
    "        self.class_probs = {}\n",
    "        self.mean = {}\n",
    "        self.var = {}\n",
    "        \n",
    "    def fit(self, X, y):\n",
    "        self.classes = np.unique(y)\n",
    "        for cls in self.classes:\n",
    "            X_cls = X[y == cls]\n",
    "            self.class_probs[cls] = len(X_cls) / len(X)\n",
    "            self.mean[cls] = np.mean(X_cls, axis=0)\n",
    "            self.var[cls] = np.var(X_cls, axis=0)\n",
    "            \n",
    "    def calculate_probability(self, x, mean, var):\n",
    "        exponent = np.exp(-(x-mean)**2 / (2 * var))\n",
    "        return np.prod((1 / (np.sqrt(2 * np.pi * var))) * exponent)\n",
    "    \n",
    "    def predict_single(self, x):\n",
    "        probabilities = {}\n",
    "        for cls in self.classes:\n",
    "            probabilities[cls] = self.class_probs[cls] * np.prod(self.calculate_probability(x, self.mean[cls], self.var[cls]))\n",
    "        return max(probabilities, key=probabilities.get)\n",
    "    \n",
    "    def predict(self, X):\n",
    "        predictions = []\n",
    "        for x in X:\n",
    "            predictions.append(self.predict_single(x))\n",
    "        return predictions"
   ]
  },
  {
   "cell_type": "code",
   "execution_count": 16,
   "id": "c57114c1-8f39-4cfb-9051-ef64e5399d31",
   "metadata": {},
   "outputs": [],
   "source": [
    "# Training the Naive Bayes model\n",
    "nb_classifier = NaiveBayes()\n",
    "nb_classifier.fit(X_train, y_train)"
   ]
  },
  {
   "cell_type": "code",
   "execution_count": 17,
   "id": "9c3e527b-888b-42e1-b698-d10f554126e9",
   "metadata": {},
   "outputs": [],
   "source": [
    "# Prediction\n",
    "y_pred = nb_classifier.predict(X_test)"
   ]
  },
  {
   "cell_type": "code",
   "execution_count": 18,
   "id": "6c3634e7-0b5e-4652-9967-da935a346556",
   "metadata": {},
   "outputs": [
    {
     "name": "stdout",
     "output_type": "stream",
     "text": [
      "\n",
      "Classification Report:\n",
      "                 precision    recall  f1-score   support\n",
      "\n",
      "    Iris-setosa       1.00      1.00      1.00        10\n",
      "Iris-versicolor       1.00      1.00      1.00         9\n",
      " Iris-virginica       1.00      1.00      1.00        11\n",
      "\n",
      "       accuracy                           1.00        30\n",
      "      macro avg       1.00      1.00      1.00        30\n",
      "   weighted avg       1.00      1.00      1.00        30\n",
      "\n"
     ]
    }
   ],
   "source": [
    "# Classification Report\n",
    "print(\"\\nClassification Report:\")\n",
    "print(classification_report(y_test, y_pred))"
   ]
  }
 ],
 "metadata": {
  "kernelspec": {
   "display_name": "Python 3 (ipykernel)",
   "language": "python",
   "name": "python3"
  },
  "language_info": {
   "codemirror_mode": {
    "name": "ipython",
    "version": 3
   },
   "file_extension": ".py",
   "mimetype": "text/x-python",
   "name": "python",
   "nbconvert_exporter": "python",
   "pygments_lexer": "ipython3",
   "version": "3.11.7"
  }
 },
 "nbformat": 4,
 "nbformat_minor": 5
}
