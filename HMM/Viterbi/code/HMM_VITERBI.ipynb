{
 "cells": [
  {
   "cell_type": "code",
   "execution_count": 31,
   "id": "f5e6eebd-7ad2-49ef-8139-1d9c46fb67fb",
   "metadata": {},
   "outputs": [
    {
     "name": "stdout",
     "output_type": "stream",
     "text": [
      "Most likely hidden state sequence : ['hot', 'hot', 'cold'] and the probability is : 0.006720000000000001\n"
     ]
    }
   ],
   "source": [
    "def viterbi(obs, states, start_p, trans_p, emit_p):\n",
    "    V = [{}]\n",
    "    path = {}\n",
    "    \n",
    "    # Initialization step\n",
    "    for st in states:\n",
    "        V[0][st] = {\"prob\": start_p[st] * emit_p[st][obs[0]], \"prev\": None}\n",
    "        path[st] = [st]\n",
    "    \n",
    "    # Recursion step\n",
    "    for t in range(1, len(obs)):\n",
    "        V.append({})\n",
    "        new_path = {}\n",
    "        for st in states:\n",
    "            max_prob, prev_st = max((V[t-1][prev_st][\"prob\"] * trans_p[prev_st][st], prev_st) for prev_st in states)\n",
    "            V[t][st] = {\"prob\": max_prob * emit_p[st][obs[t]], \"prev\": prev_st}\n",
    "            new_path[st] = path[prev_st] + [st]\n",
    "        path = new_path\n",
    "    \n",
    "    # Termination step\n",
    "    max_prob, best_st = max((V[len(obs)-1][st][\"prob\"], st) for st in states)\n",
    "    best_path = path[best_st]\n",
    "    \n",
    "    return (max_prob,best_path)\n",
    "\n",
    "# Example usage\n",
    "observations = [\"1\", \"3\", \"1\"]\n",
    "states = [\"hot\", \"cold\"]\n",
    "start_p = {\"hot\": 0.8, \"cold\": 0.2}\n",
    "trans_p = {\n",
    "    \"hot\": {\"hot\": 0.7, \"cold\": 0.3},\n",
    "    \"cold\": {\"hot\": 0.4, \"cold\": 0.6},\n",
    "}\n",
    "emit_p = {\n",
    "    \"hot\": {\"1\": 0.2, \"2\": 0.4, \"3\": 0.4},\n",
    "    \"cold\": {\"1\": 0.5, \"2\": 0.4, \"3\": 0.1},\n",
    "}\n",
    "\n",
    "prob,path = viterbi(observations, states, start_p, trans_p, emit_p)\n",
    "print(f\"Most likely hidden state sequence : {path} and the probability is : {prob}\")\n"
   ]
  },
  {
   "cell_type": "code",
   "execution_count": 32,
   "id": "13a5914e-9c2c-4fcf-befa-afc4994bc7d5",
   "metadata": {},
   "outputs": [
    {
     "ename": "KeyError",
     "evalue": "'Rainy'",
     "output_type": "error",
     "traceback": [
      "\u001b[0;31m---------------------------------------------------------------------------\u001b[0m",
      "\u001b[0;31mKeyError\u001b[0m                                  Traceback (most recent call last)",
      "Cell \u001b[0;32mIn[32], line 16\u001b[0m\n\u001b[1;32m      5\u001b[0m transition_probability \u001b[38;5;241m=\u001b[39m {\n\u001b[1;32m      6\u001b[0m     \u001b[38;5;124m'\u001b[39m\u001b[38;5;124mRainy\u001b[39m\u001b[38;5;124m'\u001b[39m: {\u001b[38;5;124m'\u001b[39m\u001b[38;5;124mRainy\u001b[39m\u001b[38;5;124m'\u001b[39m: \u001b[38;5;241m0.6\u001b[39m, \u001b[38;5;124m'\u001b[39m\u001b[38;5;124mSunny\u001b[39m\u001b[38;5;124m'\u001b[39m: \u001b[38;5;241m0.38\u001b[39m,\u001b[38;5;124m'\u001b[39m\u001b[38;5;124mcloudy\u001b[39m\u001b[38;5;124m'\u001b[39m:\u001b[38;5;241m0.02\u001b[39m},\n\u001b[1;32m      7\u001b[0m     \u001b[38;5;124m'\u001b[39m\u001b[38;5;124mSunny\u001b[39m\u001b[38;5;124m'\u001b[39m: {\u001b[38;5;124m'\u001b[39m\u001b[38;5;124mRainy\u001b[39m\u001b[38;5;124m'\u001b[39m: \u001b[38;5;241m0.15\u001b[39m, \u001b[38;5;124m'\u001b[39m\u001b[38;5;124mSunny\u001b[39m\u001b[38;5;124m'\u001b[39m: \u001b[38;5;241m0.8\u001b[39m,\u001b[38;5;124m'\u001b[39m\u001b[38;5;124mcloudy\u001b[39m\u001b[38;5;124m'\u001b[39m:\u001b[38;5;241m0.05\u001b[39m},\n\u001b[1;32m      8\u001b[0m     \u001b[38;5;124m'\u001b[39m\u001b[38;5;124mcloudy\u001b[39m\u001b[38;5;124m'\u001b[39m: {\u001b[38;5;124m'\u001b[39m\u001b[38;5;124mRainy\u001b[39m\u001b[38;5;124m'\u001b[39m: \u001b[38;5;241m0.05\u001b[39m, \u001b[38;5;124m'\u001b[39m\u001b[38;5;124mSunny\u001b[39m\u001b[38;5;124m'\u001b[39m: \u001b[38;5;241m0.75\u001b[39m,\u001b[38;5;124m'\u001b[39m\u001b[38;5;124mcloudy\u001b[39m\u001b[38;5;124m'\u001b[39m:\u001b[38;5;241m0.2\u001b[39m},\n\u001b[1;32m      9\u001b[0m }\n\u001b[1;32m     10\u001b[0m emission_probability \u001b[38;5;241m=\u001b[39m {\n\u001b[1;32m     11\u001b[0m     \u001b[38;5;124m'\u001b[39m\u001b[38;5;124mRainy\u001b[39m\u001b[38;5;124m'\u001b[39m: {\u001b[38;5;124m'\u001b[39m\u001b[38;5;124mshort\u001b[39m\u001b[38;5;124m'\u001b[39m: \u001b[38;5;241m0.05\u001b[39m, \u001b[38;5;124m'\u001b[39m\u001b[38;5;124mcoat\u001b[39m\u001b[38;5;124m'\u001b[39m: \u001b[38;5;241m0.3\u001b[39m, \u001b[38;5;124m'\u001b[39m\u001b[38;5;124mumbrella\u001b[39m\u001b[38;5;124m'\u001b[39m: \u001b[38;5;241m0.65\u001b[39m},\n\u001b[1;32m     12\u001b[0m     \u001b[38;5;124m'\u001b[39m\u001b[38;5;124mSunny\u001b[39m\u001b[38;5;124m'\u001b[39m: {\u001b[38;5;124m'\u001b[39m\u001b[38;5;124mshort\u001b[39m\u001b[38;5;124m'\u001b[39m: \u001b[38;5;241m0.6\u001b[39m, \u001b[38;5;124m'\u001b[39m\u001b[38;5;124mcoat\u001b[39m\u001b[38;5;124m'\u001b[39m: \u001b[38;5;241m0.3\u001b[39m, \u001b[38;5;124m'\u001b[39m\u001b[38;5;124mumbrella\u001b[39m\u001b[38;5;124m'\u001b[39m: \u001b[38;5;241m0.1\u001b[39m},\n\u001b[1;32m     13\u001b[0m     \u001b[38;5;124m'\u001b[39m\u001b[38;5;124mcloudy\u001b[39m\u001b[38;5;124m'\u001b[39m: {\u001b[38;5;124m'\u001b[39m\u001b[38;5;124mshort\u001b[39m\u001b[38;5;124m'\u001b[39m: \u001b[38;5;241m0.0\u001b[39m, \u001b[38;5;124m'\u001b[39m\u001b[38;5;124mcoat\u001b[39m\u001b[38;5;124m'\u001b[39m: \u001b[38;5;241m0.5\u001b[39m, \u001b[38;5;124m'\u001b[39m\u001b[38;5;124mumbrella\u001b[39m\u001b[38;5;124m'\u001b[39m: \u001b[38;5;241m0.5\u001b[39m},\n\u001b[1;32m     14\u001b[0m }\n\u001b[0;32m---> 16\u001b[0m prob,path \u001b[38;5;241m=\u001b[39m viterbi(observations, states, start_p, trans_p, emit_p)\n\u001b[1;32m     17\u001b[0m \u001b[38;5;28mprint\u001b[39m(\u001b[38;5;124mf\u001b[39m\u001b[38;5;124m\"\u001b[39m\u001b[38;5;124mMost likely hidden state sequence : \u001b[39m\u001b[38;5;132;01m{\u001b[39;00mpath\u001b[38;5;132;01m}\u001b[39;00m\u001b[38;5;124m and the probability is : \u001b[39m\u001b[38;5;132;01m{\u001b[39;00mprob\u001b[38;5;132;01m}\u001b[39;00m\u001b[38;5;124m\"\u001b[39m)\n",
      "Cell \u001b[0;32mIn[31], line 7\u001b[0m, in \u001b[0;36mviterbi\u001b[0;34m(obs, states, start_p, trans_p, emit_p)\u001b[0m\n\u001b[1;32m      5\u001b[0m \u001b[38;5;66;03m# Initialization step\u001b[39;00m\n\u001b[1;32m      6\u001b[0m \u001b[38;5;28;01mfor\u001b[39;00m st \u001b[38;5;129;01min\u001b[39;00m states:\n\u001b[0;32m----> 7\u001b[0m     V[\u001b[38;5;241m0\u001b[39m][st] \u001b[38;5;241m=\u001b[39m {\u001b[38;5;124m\"\u001b[39m\u001b[38;5;124mprob\u001b[39m\u001b[38;5;124m\"\u001b[39m: start_p[st] \u001b[38;5;241m*\u001b[39m emit_p[st][obs[\u001b[38;5;241m0\u001b[39m]], \u001b[38;5;124m\"\u001b[39m\u001b[38;5;124mprev\u001b[39m\u001b[38;5;124m\"\u001b[39m: \u001b[38;5;28;01mNone\u001b[39;00m}\n\u001b[1;32m      8\u001b[0m     path[st] \u001b[38;5;241m=\u001b[39m [st]\n\u001b[1;32m     10\u001b[0m \u001b[38;5;66;03m# Recursion step\u001b[39;00m\n",
      "\u001b[0;31mKeyError\u001b[0m: 'Rainy'"
     ]
    }
   ],
   "source": [
    "# Example usage:\n",
    "states = ('Rainy', 'Sunny','cloudy')\n",
    "observations = ('coat', 'coat', 'umbrella')\n",
    "start_probability = {'Rainy': 0.2, 'Sunny': 0.75,'cloudy':0.05}\n",
    "transition_probability = {\n",
    "    'Rainy': {'Rainy': 0.6, 'Sunny': 0.38,'cloudy':0.02},\n",
    "    'Sunny': {'Rainy': 0.15, 'Sunny': 0.8,'cloudy':0.05},\n",
    "    'cloudy': {'Rainy': 0.05, 'Sunny': 0.75,'cloudy':0.2},\n",
    "}\n",
    "emission_probability = {\n",
    "    'Rainy': {'short': 0.05, 'coat': 0.3, 'umbrella': 0.65},\n",
    "    'Sunny': {'short': 0.6, 'coat': 0.3, 'umbrella': 0.1},\n",
    "    'cloudy': {'short': 0.0, 'coat': 0.5, 'umbrella': 0.5},\n",
    "}\n",
    "\n",
    "prob,path = viterbi(observations, states, start_p, trans_p, emit_p)\n",
    "print(f\"Most likely hidden state sequence : {path} and the probability is : {prob}\")\n"
   ]
  }
 ],
 "metadata": {
  "kernelspec": {
   "display_name": "Python 3 (ipykernel)",
   "language": "python",
   "name": "python3"
  },
  "language_info": {
   "codemirror_mode": {
    "name": "ipython",
    "version": 3
   },
   "file_extension": ".py",
   "mimetype": "text/x-python",
   "name": "python",
   "nbconvert_exporter": "python",
   "pygments_lexer": "ipython3",
   "version": "3.11.7"
  }
 },
 "nbformat": 4,
 "nbformat_minor": 5
}
