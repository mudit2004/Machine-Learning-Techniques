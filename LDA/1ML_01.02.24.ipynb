{
 "cells": [
  {
   "cell_type": "markdown",
   "id": "99913c2a-f0a4-4d25-a6a6-3e940eebd6b4",
   "metadata": {},
   "source": [
    "`Experiment - 4` <br>\n",
    "`01.02.24` <br>\n",
    "`Linear Discriminant Analysis(LDA) Algorithm Implementation ` <br>"
   ]
  },
  {
   "cell_type": "code",
   "execution_count": 41,
   "id": "f06a8857-91a6-475f-8e85-73384cedbbb9",
   "metadata": {},
   "outputs": [],
   "source": [
    "import matplotlib.pyplot as plt\n",
    "import seaborn as sns\n",
    "from sklearn.discriminant_analysis import LinearDiscriminantAnalysis\n",
    "from sklearn.model_selection import train_test_split\n",
    "from sklearn.metrics import classification_report, confusion_matrix"
   ]
  },
  {
   "cell_type": "code",
   "execution_count": 42,
   "id": "e781b2bd-dc20-4761-ad24-0b3dfedf367e",
   "metadata": {},
   "outputs": [],
   "source": [
    "# Data\n",
    "X1 = [(4, 2), (2, 4), (2, 3), (3, 6), (4, 4)]\n",
    "X2 = [(9, 10), (6, 8), (9, 5), (8, 7), (10, 8)]"
   ]
  },
  {
   "cell_type": "code",
   "execution_count": 43,
   "id": "95077618-7a43-4541-8830-0e22cc12ce6b",
   "metadata": {},
   "outputs": [],
   "source": [
    "# Unzip data for plotting\n",
    "x1_values, y1_values = zip(*X1)\n",
    "x2_values, y2_values = zip(*X2)"
   ]
  },
  {
   "cell_type": "code",
   "execution_count": 44,
   "id": "ede156dc-10d0-4dd8-8fd9-f450781ea1ed",
   "metadata": {},
   "outputs": [
    {
     "data": {
      "image/png": "[encoded data removed]",
      "text/plain": [
       "<Figure size 640x480 with 1 Axes>"
      ]
     },
     "metadata": {},
     "output_type": "display_data"
    }
   ],
   "source": [
    "# Plot\n",
    "plt.scatter(x1_values, y1_values, color='red', label='X1')\n",
    "plt.scatter(x2_values, y2_values, color='blue', label='X2')\n",
    "\n",
    "plt.xlabel('x1')\n",
    "plt.ylabel('x2')\n",
    "plt.title('Scatter plot of X1 and X2')\n",
    "plt.legend()\n",
    "plt.grid(True)\n",
    "plt.show()"
   ]
  },
  {
   "cell_type": "code",
   "execution_count": 45,
   "id": "782095ed-6641-4afb-8245-8ced9cc795da",
   "metadata": {},
   "outputs": [
    {
     "name": "stdout",
     "output_type": "stream",
     "text": [
      "Mean of class X1: (3.0, 3.8)\n",
      "Mean of class X2: (8.4, 7.6)\n"
     ]
    }
   ],
   "source": [
    "# Calculate mean for class X1\n",
    "mean_x1 = sum(x[0] for x in X1) / len(X1)\n",
    "mean_y1 = sum(x[1] for x in X1) / len(X1)\n",
    "\n",
    "# Calculate mean for class X2\n",
    "mean_x2 = sum(x[0] for x in X2) / len(X2)\n",
    "mean_y2 = sum(x[1] for x in X2) / len(X2)\n",
    "\n",
    "print(\"Mean of class X1:\", (mean_x1, mean_y1))\n",
    "print(\"Mean of class X2:\", (mean_x2, mean_y2))\n"
   ]
  },
  {
   "cell_type": "code",
   "execution_count": 46,
   "id": "22e2981f-e596-4a28-bb21-9eaab2868e72",
   "metadata": {},
   "outputs": [
    {
     "name": "stdout",
     "output_type": "stream",
     "text": [
      "Covariance matrix of class X1:\n",
      "[[ 1.   -0.25]\n",
      " [-0.25  2.2 ]]\n",
      "\n",
      "Covariance matrix of class X2:\n",
      "[[ 2.3  -0.05]\n",
      " [-0.05  3.3 ]]\n"
     ]
    }
   ],
   "source": [
    "# Convert data to numpy arrays\n",
    "X1_array = np.array(X1)\n",
    "X2_array = np.array(X2)\n",
    "\n",
    "# Calculate covariance matrix for class X1\n",
    "covariance_matrix_X1 = np.cov(X1_array, rowvar=False)\n",
    "\n",
    "# Calculate covariance matrix for class X2\n",
    "covariance_matrix_X2 = np.cov(X2_array, rowvar=False)\n",
    "\n",
    "print(\"Covariance matrix of class X1:\")\n",
    "print(covariance_matrix_X1)\n",
    "print(\"\\nCovariance matrix of class X2:\")\n",
    "print(covariance_matrix_X2)"
   ]
  },
  {
   "cell_type": "code",
   "execution_count": 47,
   "id": "9a02471c-1d24-4d61-b15a-1bfefc2bfd53",
   "metadata": {},
   "outputs": [
    {
     "name": "stdout",
     "output_type": "stream",
     "text": [
      "[[ 3.3 -0.3]\n",
      " [-0.3  5.5]]\n"
     ]
    }
   ],
   "source": [
    "#within class scatter matrix\n",
    "sw = covariance_matrix_X1 + covariance_matrix_X2\n",
    "print(sw)"
   ]
  },
  {
   "cell_type": "code",
   "execution_count": 50,
   "id": "41c2b582-07ec-4caf-94d9-518db5c5eeaa",
   "metadata": {},
   "outputs": [
    {
     "name": "stdout",
     "output_type": "stream",
     "text": [
      "(u1 - u2)(u1 - u2)^T:\n",
      "\n",
      "[[29.16 20.52]\n",
      " [20.52 14.44]]\n"
     ]
    }
   ],
   "source": [
    "# Calculate (u1 - u2)\n",
    "u1_minus_u2 = np.array([mean_x1 - mean_x2, mean_y1 - mean_y2])\n",
    "\n",
    "# Calculate (u1 - u2)(u1 - u2)^T\n",
    "sb = np.outer(u1_minus_u2, u1_minus_u2)\n",
    "\n",
    "print(\"(u1 - u2)(u1 - u2)^T:\\n\")\n",
    "print(sb)"
   ]
  },
  {
   "cell_type": "code",
   "execution_count": 52,
   "id": "443ae8f5-17ae-4ac7-9587-601373a70bd8",
   "metadata": {},
   "outputs": [
    {
     "name": "stdout",
     "output_type": "stream",
     "text": [
      "(Sw)^-1 * Sb * -h(I): \n",
      "\n",
      "[[-112.50585688   -0.        ]\n",
      " [  -0.          -36.3507899 ]]\n"
     ]
    }
   ],
   "source": [
    "# Calculate inverse of Sw\n",
    "Sw_inv = np.linalg.inv(sw)\n",
    "\n",
    "# Calculate (Sw)^-1 * Sb\n",
    "intermediate_result = np.dot(Sw_inv, sb)\n",
    "\n",
    "# Define the scalar h\n",
    "h = 12.2007\n",
    "\n",
    "# Calculate the final result\n",
    "result = intermediate_result * (-h * np.eye(len(sb)))\n",
    "\n",
    "print(\"(Sw)^-1 * Sb * -h(I): \\n\")\n",
    "print(result)"
   ]
  },
  {
   "cell_type": "code",
   "execution_count": 56,
   "id": "d570b727-c121-49d4-ad20-4dc8b4c9475b",
   "metadata": {},
   "outputs": [
    {
     "name": "stdout",
     "output_type": "stream",
     "text": [
      "[[0.30454042 0.0166113 ]\n",
      " [0.0166113  0.18272425]]\n"
     ]
    }
   ],
   "source": [
    "print(Sw_inv)"
   ]
  },
  {
   "cell_type": "code",
   "execution_count": 59,
   "id": "30f7a471-d8a9-4658-8f59-ba38609fc718",
   "metadata": {},
   "outputs": [
    {
     "name": "stdout",
     "output_type": "stream",
     "text": [
      "(Sw)^-1 * (u1 - u2):\n",
      "[-1.7076412  -0.78405316]\n"
     ]
    }
   ],
   "source": [
    "# Define means as arrays\n",
    "u1 = np.array([mean_x1, mean_y1])\n",
    "u2 = np.array([mean_x2, mean_y2])\n",
    "\n",
    "# Define within-class scatter matrix\n",
    "sw = np.array([[3.3, -0.3],\n",
    "               [-0.3, 5.5]])\n",
    "\n",
    "# Calculate inverse of Sw\n",
    "sw_inv = np.linalg.inv(sw)\n",
    "\n",
    "# Calculate (u1 - u2)\n",
    "u1_minus_u2 = u1 - u2\n",
    "\n",
    "# Calculate (Sw)^-1 * (u1 - u2)\n",
    "result = np.dot(sw_inv, u1_minus_u2)\n",
    "\n",
    "print(\"(Sw)^-1 * (u1 - u2):\")\n",
    "print(result)"
   ]
  },
  {
   "cell_type": "code",
   "execution_count": null,
   "id": "8d139fd8-2d67-4ff3-b69c-497b0712035b",
   "metadata": {},
   "outputs": [],
   "source": []
  },
  {
   "cell_type": "code",
   "execution_count": null,
   "id": "6ac4a140-cc57-448b-a724-2bda6fa4f8cb",
   "metadata": {},
   "outputs": [],
   "source": []
  }
 ],
 "metadata": {
  "kernelspec": {
   "display_name": "Python 3 (ipykernel)",
   "language": "python",
   "name": "python3"
  },
  "language_info": {
   "codemirror_mode": {
    "name": "ipython",
    "version": 3
   },
   "file_extension": ".py",
   "mimetype": "text/x-python",
   "name": "python",
   "nbconvert_exporter": "python",
   "pygments_lexer": "ipython3",
   "version": "3.10.5"
  }
 },
 "nbformat": 4,
 "nbformat_minor": 5
}
