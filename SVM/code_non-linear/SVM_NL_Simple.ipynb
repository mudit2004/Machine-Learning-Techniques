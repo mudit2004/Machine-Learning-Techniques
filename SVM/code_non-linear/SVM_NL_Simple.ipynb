{
 "cells": [
  {
   "cell_type": "code",
   "execution_count": 1,
   "id": "c3d66c04-c013-48ba-ad8b-1ee84260172b",
   "metadata": {},
   "outputs": [],
   "source": [
    "import numpy as np\n",
    "import pandas as pd\n",
    "from sklearn.model_selection import train_test_split\n",
    "from sklearn.svm import SVC\n",
    "from sklearn.metrics import confusion_matrix\n",
    "from sklearn import metrics\n",
    "from sklearn.model_selection import validation_curve\n",
    "from sklearn.model_selection import KFold\n",
    "from sklearn.model_selection import cross_val_score\n",
    "from sklearn.model_selection import GridSearchCV\n",
    "import matplotlib.pyplot as plt\n",
    "import seaborn as sns\n",
    "from sklearn.preprocessing import scale"
   ]
  },
  {
   "cell_type": "code",
   "execution_count": 2,
   "id": "e0608f0b-b4ac-429c-ab46-dbc3a842eac2",
   "metadata": {},
   "outputs": [],
   "source": [
    "email_rec = pd.read_csv(\"Spam.txt\",  sep = ',', header= None )"
   ]
  },
  {
   "cell_type": "code",
   "execution_count": 3,
   "id": "b8721a13-09a5-4bf1-a707-9415c6ef398a",
   "metadata": {},
   "outputs": [
    {
     "name": "stdout",
     "output_type": "stream",
     "text": [
      "     0     1     2    3     4     5     6     7     8     9   ...    48  \\\n",
      "0  0.00  0.64  0.64  0.0  0.32  0.00  0.00  0.00  0.00  0.00  ...  0.00   \n",
      "1  0.21  0.28  0.50  0.0  0.14  0.28  0.21  0.07  0.00  0.94  ...  0.00   \n",
      "2  0.06  0.00  0.71  0.0  1.23  0.19  0.19  0.12  0.64  0.25  ...  0.01   \n",
      "3  0.00  0.00  0.00  0.0  0.63  0.00  0.31  0.63  0.31  0.63  ...  0.00   \n",
      "4  0.00  0.00  0.00  0.0  0.63  0.00  0.31  0.63  0.31  0.63  ...  0.00   \n",
      "\n",
      "      49   50     51     52     53     54   55    56  57  \n",
      "0  0.000  0.0  0.778  0.000  0.000  3.756   61   278   1  \n",
      "1  0.132  0.0  0.372  0.180  0.048  5.114  101  1028   1  \n",
      "2  0.143  0.0  0.276  0.184  0.010  9.821  485  2259   1  \n",
      "3  0.137  0.0  0.137  0.000  0.000  3.537   40   191   1  \n",
      "4  0.135  0.0  0.135  0.000  0.000  3.537   40   191   1  \n",
      "\n",
      "[5 rows x 58 columns]\n"
     ]
    }
   ],
   "source": [
    "print(email_rec.head())"
   ]
  },
  {
   "cell_type": "code",
   "execution_count": 4,
   "id": "ec2f836d-9863-4347-b74c-5c8a8918ac5d",
   "metadata": {},
   "outputs": [],
   "source": [
    "# renaming the columns\n",
    "email_rec.columns  = [\"word_freq_make\", \"word_freq_address\", \"word_freq_all\", \"word_freq_3d\", \n",
    "                      \"word_freq_our\", \"word_freq_over\", \"word_freq_remove\", \"word_freq_internet\", \n",
    "                      \"word_freq_order\", \"word_freq_mail\", \"word_freq_receive\", \"word_freq_will\", \n",
    "                      \"word_freq_people\", \"word_freq_report\", \"word_freq_addresses\", \"word_freq_free\", \n",
    "                      \"word_freq_business\", \"word_freq_email\", \"word_freq_you\", \"word_freq_credit\", \n",
    "                      \"word_freq_your\", \"word_freq_font\", \"word_freq_000\", \"word_freq_money\", \"word_freq_hp\", \n",
    "                      \"word_freq_hpl\", \"word_freq_george\", \"word_freq_650\", \"word_freq_lab\", \"word_freq_labs\", \n",
    "                      \"word_freq_telnet\", \"word_freq_857\", \"word_freq_data\", \"word_freq_415\", \"word_freq_85\", \n",
    "                      \"word_freq_technology\", \"word_freq_1999\", \"word_freq_parts\", \"word_freq_pm\", \"word_freq_direct\",\n",
    "                      \"word_freq_cs\", \"word_freq_meeting\", \"word_freq_original\", \"word_freq_project\", \"word_freq_re\", \n",
    "                      \"word_freq_edu\", \"word_freq_table\", \"word_freq_conference\", \"char_freq_;\", \"char_freq_(\", \n",
    "                      \"char_freq_[\", \"char_freq_!\", \"char_freq_$\", \"char_freq_hash\", \"capital_run_length_average\", \n",
    "                      \"capital_run_length_longest\", \"capital_run_length_total\", \"spam\"]"
   ]
  },
  {
   "cell_type": "code",
   "execution_count": 5,
   "id": "9da5e845-d432-470e-83dd-8c78e5dce508",
   "metadata": {},
   "outputs": [
    {
     "data": {
      "text/plain": [
       "(4601, 58)"
      ]
     },
     "execution_count": 5,
     "metadata": {},
     "output_type": "execute_result"
    }
   ],
   "source": [
    "email_rec.shape"
   ]
  },
  {
   "cell_type": "code",
   "execution_count": 6,
   "id": "558588ae-0b1e-48f5-98eb-32f84369da84",
   "metadata": {},
   "outputs": [],
   "source": [
    "X = email_rec.drop(\"spam\", axis = 1)\n",
    "y = email_rec.spam.values.astype(int)"
   ]
  },
  {
   "cell_type": "code",
   "execution_count": 7,
   "id": "04763246-a537-4ed2-9035-2781c91664b4",
   "metadata": {},
   "outputs": [],
   "source": [
    "X = scale(X)"
   ]
  },
  {
   "cell_type": "code",
   "execution_count": 8,
   "id": "6cf3f437-0f2c-449e-864b-28e1a1e1be94",
   "metadata": {},
   "outputs": [],
   "source": [
    "X_train, X_test, y_train, y_test = train_test_split(X, y, test_size = 0.3, random_state = 4)"
   ]
  },
  {
   "cell_type": "code",
   "execution_count": 9,
   "id": "97a89f48-4de2-4e9a-a0cf-deef47829727",
   "metadata": {},
   "outputs": [],
   "source": [
    "# using rbf kernel, C=100 and gamma = 0.0001, default value of gamma\n",
    "\n",
    "model_rbf = SVC(C=100, gamma=0.0001, kernel=\"rbf\")\n",
    "model_rbf.fit(X_train, y_train)\n",
    "y_pred = model_rbf.predict(X_test)"
   ]
  },
  {
   "cell_type": "markdown",
   "id": "3b8a4e64-37ed-4020-bed5-c342d0f86600",
   "metadata": {},
   "source": [
    "## The below are other kernel function"
   ]
  },
  {
   "cell_type": "markdown",
   "id": "031a89d7-6cef-4b3c-b497-a89f8c54f631",
   "metadata": {},
   "source": [
    "```code \n",
    "model_poly = SVC(C=100, degree = 3, kernel=\"poly\")\n",
    "model_poly.fit(X_train, y_train)\n",
    "y_pred = model_poly.predict(X_test)\n",
    "``` "
   ]
  },
  {
   "cell_type": "markdown",
   "id": "cefcc6cb-4e86-4143-af6a-0829b72ba828",
   "metadata": {},
   "source": [
    "```\n",
    "model_sigmoid = SVC(C=1, kernel=\"sigmoid\")\n",
    "model_sigmoid.fit(X_train, y_train)\n",
    "y_pred = model_sigmoid.predict(X_test)"
   ]
  },
  {
   "cell_type": "code",
   "execution_count": 10,
   "id": "62fa58ae-1070-449b-99a0-3409c5b5d37e",
   "metadata": {},
   "outputs": [
    {
     "name": "stdout",
     "output_type": "stream",
     "text": [
      "[[810  39]\n",
      " [ 60 472]] \n",
      "\n",
      "accuracy 0.9283128167994207\n",
      "\n",
      "precision 0.923679060665362\n",
      "\n",
      "sensitivity/recall 0.8872180451127819\n"
     ]
    }
   ],
   "source": [
    "#report \n",
    "\n",
    "print(metrics.confusion_matrix(y_test, y_pred), \"\\n\")\n",
    "print(\"accuracy\", metrics.accuracy_score(y_test, y_pred))\n",
    "print(\"\\nprecision\", metrics.precision_score(y_test, y_pred))\n",
    "print(\"\\nsensitivity/recall\", metrics.recall_score(y_test, y_pred))"
   ]
  }
 ],
 "metadata": {
  "kernelspec": {
   "display_name": "Python 3 (ipykernel)",
   "language": "python",
   "name": "python3"
  },
  "language_info": {
   "codemirror_mode": {
    "name": "ipython",
    "version": 3
   },
   "file_extension": ".py",
   "mimetype": "text/x-python",
   "name": "python",
   "nbconvert_exporter": "python",
   "pygments_lexer": "ipython3",
   "version": "3.11.7"
  }
 },
 "nbformat": 4,
 "nbformat_minor": 5
}
