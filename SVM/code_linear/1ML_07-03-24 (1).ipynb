{
 "cells": [
  {
   "cell_type": "markdown",
   "id": "4b323b36-e29f-4daa-9869-504c5bec57f4",
   "metadata": {},
   "source": [
    "<div class=\"alert alert-block alert-info\">\n",
    "<h1><b>Aim:</b> Support Vector Machine Algorithm </h1></div>"
   ]
  },
  {
   "cell_type": "markdown",
   "id": "4c23695b-71e3-48e3-a56c-848b44c40516",
   "metadata": {},
   "source": [
    "A support vector machine (SVM) is a type of supervised learning\n",
    "algorithm used in machine leaarning to solve classification and\n",
    "regression tasks; SVMs are particularly good at solving binary\n",
    "classification problems, which require classifying the elements of a\n",
    "data set into two groups.\n",
    "The aim of a support vector machine algorithm is to find the best\n",
    "possible line, or decision boundary, that separates the data points of\n",
    "different data classes. This boundary is called a hyperplane when\n",
    "working in high-dimensional feature spaces. The idea is to maximize\n",
    "the margin, which is the distance between the hyperplane and the\n",
    "closest data points of each category, thus making it easy to\n",
    "distinguish data classes.\n",
    "SVMs are useful for analyzing complex data that can't be separated\n",
    "by a simple straight line. Called nonlinear SMVs, they do this by\n",
    "using a mathematical trick that transforms data into higher-\n",
    "dimensional space, where it is easier to find a boundary."
   ]
  },
  {
   "cell_type": "markdown",
   "id": "9db1881c-82f5-4928-8ead-6f8794423647",
   "metadata": {},
   "source": [
    "## How do support vector machines work?\n",
    "The key idea behind SVMs is to transform the input data into a\n",
    "higher-dimensional feature space. This transformation makes it\n",
    "easier to find a linear separation or to more effectively classify the\n",
    "data set.\n",
    "To do this, SVMs use a kernel function. Instead of explicitly\n",
    "calculating the coordinates of the transformed space, the kernel\n",
    "function enables the SVM to implicitly compute the dot products\n",
    "between the transformed feature vectors and avoid handling\n",
    "expensive, unnecessary computations for extreme cases.\n",
    "\n",
    "SVMs can handle both linearly separable and non-linearly separable\n",
    "data. They do this by using different types of kernel functions, such\n",
    "as the linear kernel, polynomial kernel or radial basis function (RBF)\n",
    "kernel. These kernels enable SVMs to effectively capture complex\n",
    "relationships and patterns in the data.\n",
    "During the training phase, SVMs use a mathematical formulation to\n",
    "find the optimal hyperplane in a higher-dimensional space, often\n",
    "called the kernel space. This hyperplane is crucial because it\n",
    "maximizes the margin between data points of different classes,\n",
    "while minimizing the classification errors.\n",
    "The kernel function plays a critical role in SVMs, as it makes it\n",
    "possible to map the data from the original feature space to the\n",
    "kernel space. The choice of kernel function can have a significant\n",
    "impact on the performance of the SVM algorithm; choosing the best\n",
    "kernel function for a particular problem depends on the\n",
    "characteristics of the data."
   ]
  },
  {
   "cell_type": "markdown",
   "id": "773b329b-efa2-43fb-a236-05612bf0d313",
   "metadata": {},
   "source": [
    "## Some of the most popular kernel functions for SVMs are the following:\n",
    "    1. Linear kernel.\n",
    "    2. Polynomial kernel.\n",
    "    3. RBF kernel.\n",
    "    4. Sigmoid kernel."
   ]
  },
  {
   "cell_type": "markdown",
   "id": "0a1a7fa5-b661-44a2-aa7c-cf418ab711b4",
   "metadata": {},
   "source": [
    "## Types of support vector machines:\n",
    "    1. Linear SVM\n",
    "    2. Nonlinear SVM\n",
    "    "
   ]
  },
  {
   "cell_type": "markdown",
   "id": "64d32f10-208a-4435-8c57-260a297680a0",
   "metadata": {},
   "source": [
    "# Implementation with sklearn (Linear SVM)"
   ]
  },
  {
   "cell_type": "code",
   "execution_count": null,
   "id": "33c65cd1-f002-4836-a1f1-c9ebfdc87075",
   "metadata": {},
   "outputs": [],
   "source": [
    "import numpy as np\n",
    "import pandas as pd\n",
    "from sklearn.svm import SVC\n",
    "from sklearn.metrics import classification_report, accuracy_score, confusion_matrix\n",
    "import seaborn as sns\n",
    "import matplotlib.pyplot as plt"
   ]
  },
  {
   "cell_type": "code",
   "execution_count": null,
   "id": "eb586a86-8cc6-4187-8d0f-69c40a51a5f3",
   "metadata": {},
   "outputs": [],
   "source": [
    "df = pd.read_csv(r\"diabetes.csv\")"
   ]
  },
  {
   "cell_type": "code",
   "execution_count": null,
   "id": "c4cd2503-fa67-4423-89af-e5b23027be5d",
   "metadata": {},
   "outputs": [],
   "source": [
    "df"
   ]
  },
  {
   "cell_type": "code",
   "execution_count": null,
   "id": "ad33230a-9e91-48ad-93ec-8340173d38e2",
   "metadata": {},
   "outputs": [],
   "source": [
    "df['Outcome'] = df['Outcome'].replace({0: -1, 1: 1})"
   ]
  },
  {
   "cell_type": "code",
   "execution_count": null,
   "id": "4e51f55f-b896-4327-b8d0-7e620d935791",
   "metadata": {},
   "outputs": [],
   "source": [
    "d"
   ]
  },
  {
   "cell_type": "code",
   "execution_count": null,
   "id": "b0e0c557-c5bd-4393-93d8-9d898dc483fa",
   "metadata": {},
   "outputs": [],
   "source": [
    "# Training the SVM\n",
    "X_train, X_test = df.iloc[:614, :-1].values, df.iloc[614:, :-1].values\n",
    "y_train, y_test = df.iloc[:614, -1].values, df.iloc[614:, -1].values"
   ]
  },
  {
   "cell_type": "code",
   "execution_count": null,
   "id": "62669f8a-3a6c-4a1f-bd7b-10ee8150acba",
   "metadata": {},
   "outputs": [],
   "source": [
    "C_value = 1"
   ]
  },
  {
   "cell_type": "code",
   "execution_count": null,
   "id": "859b7a87-6fcd-4456-91ba-ae4ee38eb7ae",
   "metadata": {},
   "outputs": [],
   "source": [
    "# Initialize the SVM model with a linear kernel\n",
    "svm_model = SVC(kernel='linear', C=C_value)"
   ]
  },
  {
   "cell_type": "code",
   "execution_count": null,
   "id": "fca33d86-b383-491d-9d3c-bd815ddd0eeb",
   "metadata": {},
   "outputs": [],
   "source": [
    "# Fit the model to the training data\n",
    "svm_model.fit(X_train, y_train)"
   ]
  },
  {
   "cell_type": "code",
   "execution_count": null,
   "id": "d3baeaf6-8eca-4ed7-ab6d-e0153f1b5139",
   "metadata": {},
   "outputs": [],
   "source": [
    "# Making predictions\n",
    "predictions = svm_model.predict(X_test)"
   ]
  },
  {
   "cell_type": "code",
   "execution_count": null,
   "id": "e0f9c864-0eee-4d8a-a349-90fba9c9b578",
   "metadata": {},
   "outputs": [],
   "source": [
    "print(\"Predictions:\", predictions)"
   ]
  },
  {
   "cell_type": "code",
   "execution_count": null,
   "id": "5275196f-3edf-4937-b886-c7c7abb64e00",
   "metadata": {},
   "outputs": [],
   "source": [
    "# Calculating accuracy\n",
    "accuracy = accuracy_score(y_test, predictions)\n",
    "# Generating a classification report\n",
    "report = classification_report(y_test, predictions, target_names=['Class 1', 'Class -1'])"
   ]
  },
  {
   "cell_type": "code",
   "execution_count": null,
   "id": "7c2c7aa6-fa52-4735-b056-d48aea552891",
   "metadata": {},
   "outputs": [],
   "source": [
    "# Formatting the output in a table-like format\n",
    "formatted_report = report.replace('\\n\\n', '\\n').replace(' / ', '/').replace('precision', 'Precision').replace('recall', 'Recall').replace('f1-score', 'F1-Score').replace('support', 'Support')\n",
    "formatted_report += f\"\\n\\nAccuracy: {accuracy:.4f}\""
   ]
  },
  {
   "cell_type": "code",
   "execution_count": null,
   "id": "d4cc0293-d49b-4279-bd77-80a902c26aee",
   "metadata": {},
   "outputs": [],
   "source": [
    "print(formatted_report)"
   ]
  },
  {
   "cell_type": "code",
   "execution_count": null,
   "id": "a588aec9-a293-447a-b79c-356677ca6836",
   "metadata": {},
   "outputs": [],
   "source": [
    "# Plotting the confusion matrix as a heatmap\n",
    "cm = confusion_matrix(y_test, predictions)\n",
    "sns.heatmap(cm, annot=True, fmt=\"d\", cmap=\"Blues\", xticklabels=['Class 1', 'Class -1'], yticklabels=['Class 1', 'Class -1'])\n",
    "plt.xlabel(\"Predicted Label\")\n",
    "plt.ylabel(\"True Label\")\n",
    "plt.title(\"Confusion Matrix\")\n",
    "plt.show()"
   ]
  },
  {
   "cell_type": "markdown",
   "id": "7d90c4dd-7e94-4ed8-bdcd-fd2800429b7b",
   "metadata": {},
   "source": []
  }
 ],
 "metadata": {
  "kernelspec": {
   "display_name": "Python 3",
   "language": "python",
   "name": "python3"
  },
  "language_info": {
   "codemirror_mode": {
    "name": "ipython",
    "version": 3
   },
   "file_extension": ".py",
   "mimetype": "text/x-python",
   "name": "python",
   "nbconvert_exporter": "python",
   "pygments_lexer": "ipython3",
   "version": "3.8.8"
  }
 },
 "nbformat": 4,
 "nbformat_minor": 5
}
